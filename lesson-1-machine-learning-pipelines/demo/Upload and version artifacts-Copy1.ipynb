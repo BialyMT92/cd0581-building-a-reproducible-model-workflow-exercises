{
 "cells": [
  {
   "cell_type": "markdown",
   "id": "5844ef59",
   "metadata": {},
   "source": [
    "# Import Weights & Biases"
   ]
  },
  {
   "cell_type": "code",
   "execution_count": 2,
   "id": "1f34859d",
   "metadata": {},
   "outputs": [],
   "source": [
    "import wandb"
   ]
  },
  {
   "cell_type": "markdown",
   "id": "e7e89a57",
   "metadata": {},
   "source": [
    "# Create an artifact\n",
    "(pretend it is the output of a component)"
   ]
  },
  {
   "cell_type": "code",
   "execution_count": 3,
   "id": "954b0ba6",
   "metadata": {},
   "outputs": [],
   "source": [
    "with open(\"my_artifact.txt\", \"w+\") as fp:\n",
    "    fp.write(\"This is an artifact\")"
   ]
  },
  {
   "cell_type": "markdown",
   "id": "da436402",
   "metadata": {},
   "source": [
    "# Upload to W&B"
   ]
  },
  {
   "cell_type": "code",
   "execution_count": 4,
   "id": "c59023ce",
   "metadata": {},
   "outputs": [
    {
     "name": "stderr",
     "output_type": "stream",
     "text": [
      "\u001B[34m\u001B[1mwandb\u001B[0m: Currently logged in as: \u001B[33mbialymt92\u001B[0m. Use \u001B[1m`wandb login --relogin`\u001B[0m to force relogin\n"
     ]
    },
    {
     "data": {
      "text/plain": "<IPython.core.display.HTML object>",
      "text/html": "Tracking run with wandb version 0.13.9"
     },
     "metadata": {},
     "output_type": "display_data"
    },
    {
     "data": {
      "text/plain": "<IPython.core.display.HTML object>",
      "text/html": "Run data is saved locally in <code>/home/bialekm/cd0581-building-a-reproducible-model-workflow-exercises/lesson-1-machine-learning-pipelines/demo/wandb/run-20230116_083637-dolkmy66</code>"
     },
     "metadata": {},
     "output_type": "display_data"
    },
    {
     "data": {
      "text/plain": "<IPython.core.display.HTML object>",
      "text/html": "Syncing run <strong><a href=\"https://wandb.ai/bialymt92/Demo%201/runs/dolkmy66\" target=\"_blank\">warm-plasma-1</a></strong> to <a href=\"https://wandb.ai/bialymt92/Demo%201\" target=\"_blank\">Weights & Biases</a> (<a href=\"https://wandb.me/run\" target=\"_blank\">docs</a>)<br/>"
     },
     "metadata": {},
     "output_type": "display_data"
    },
    {
     "data": {
      "text/plain": "<IPython.core.display.HTML object>",
      "text/html": " View project at <a href=\"https://wandb.ai/bialymt92/Demo%201\" target=\"_blank\">https://wandb.ai/bialymt92/Demo%201</a>"
     },
     "metadata": {},
     "output_type": "display_data"
    },
    {
     "data": {
      "text/plain": "<IPython.core.display.HTML object>",
      "text/html": " View run at <a href=\"https://wandb.ai/bialymt92/Demo%201/runs/dolkmy66\" target=\"_blank\">https://wandb.ai/bialymt92/Demo%201/runs/dolkmy66</a>"
     },
     "metadata": {},
     "output_type": "display_data"
    }
   ],
   "source": [
    "# Create a run\n",
    "run = wandb.init(project=\"Demo 1\", group=\"testing_artifacts\")"
   ]
  },
  {
   "cell_type": "code",
   "execution_count": 5,
   "id": "8100f42c",
   "metadata": {},
   "outputs": [],
   "source": [
    "artifact = wandb.Artifact(name=\"my_artifact.txt\", type=\"data\", description=\"An example of an artifact\")"
   ]
  },
  {
   "cell_type": "code",
   "execution_count": 6,
   "id": "f94d8f90",
   "metadata": {},
   "outputs": [
    {
     "data": {
      "text/plain": "<wandb.sdk.wandb_artifacts.Artifact at 0x7f8e415bee60>"
     },
     "execution_count": 6,
     "metadata": {},
     "output_type": "execute_result"
    }
   ],
   "source": [
    "run.log_artifact(artifact)"
   ]
  },
  {
   "cell_type": "markdown",
   "id": "06fb6d0b",
   "metadata": {},
   "source": [
    "# Generate a new version by changing the artifact"
   ]
  },
  {
   "cell_type": "markdown",
   "id": "5f840433",
   "metadata": {},
   "source": [
    "# Re-upload the same artifact\n",
    "(the version will not change)"
   ]
  },
  {
   "cell_type": "markdown",
   "id": "2c27c7e5",
   "metadata": {},
   "source": [
    "# Using runs with context managers\n",
    "(show that the version does not change even across multiple runs if the artifact does not change)"
   ]
  },
  {
   "cell_type": "code",
   "execution_count": 7,
   "id": "8b90036b",
   "metadata": {},
   "outputs": [
    {
     "data": {
      "text/plain": "<IPython.core.display.HTML object>",
      "text/html": "Finishing last run (ID:dolkmy66) before initializing another..."
     },
     "metadata": {},
     "output_type": "display_data"
    },
    {
     "data": {
      "text/plain": "<IPython.core.display.HTML object>",
      "text/html": "Waiting for W&B process to finish... <strong style=\"color:green\">(success).</strong>"
     },
     "metadata": {},
     "output_type": "display_data"
    },
    {
     "data": {
      "text/plain": "VBox(children=(Label(value='0.001 MB of 0.007 MB uploaded (0.000 MB deduped)\\r'), FloatProgress(value=0.193219…",
      "application/vnd.jupyter.widget-view+json": {
       "version_major": 2,
       "version_minor": 0,
       "model_id": "eb4d5b8193964b438c707f3a0586906c"
      }
     },
     "metadata": {},
     "output_type": "display_data"
    },
    {
     "data": {
      "text/plain": "<IPython.core.display.HTML object>",
      "text/html": " View run <strong style=\"color:#cdcd00\">warm-plasma-1</strong> at: <a href=\"https://wandb.ai/bialymt92/Demo%201/runs/dolkmy66\" target=\"_blank\">https://wandb.ai/bialymt92/Demo%201/runs/dolkmy66</a><br/>Synced 5 W&B file(s), 0 media file(s), 0 artifact file(s) and 0 other file(s)"
     },
     "metadata": {},
     "output_type": "display_data"
    },
    {
     "data": {
      "text/plain": "<IPython.core.display.HTML object>",
      "text/html": "Find logs at: <code>./wandb/run-20230116_083637-dolkmy66/logs</code>"
     },
     "metadata": {},
     "output_type": "display_data"
    },
    {
     "data": {
      "text/plain": "<IPython.core.display.HTML object>",
      "text/html": "Successfully finished last run (ID:dolkmy66). Initializing new run:<br/>"
     },
     "metadata": {},
     "output_type": "display_data"
    },
    {
     "data": {
      "text/plain": "VBox(children=(Label(value='Waiting for wandb.init()...\\r'), FloatProgress(value=0.016670511666666242, max=1.0…",
      "application/vnd.jupyter.widget-view+json": {
       "version_major": 2,
       "version_minor": 0,
       "model_id": "fd032dda9f9c4ece90a3fa51f6c7802a"
      }
     },
     "metadata": {},
     "output_type": "display_data"
    },
    {
     "data": {
      "text/plain": "<IPython.core.display.HTML object>",
      "text/html": "Tracking run with wandb version 0.13.9"
     },
     "metadata": {},
     "output_type": "display_data"
    },
    {
     "data": {
      "text/plain": "<IPython.core.display.HTML object>",
      "text/html": "Run data is saved locally in <code>/home/bialekm/cd0581-building-a-reproducible-model-workflow-exercises/lesson-1-machine-learning-pipelines/demo/wandb/run-20230116_083658-jv1d0ilv</code>"
     },
     "metadata": {},
     "output_type": "display_data"
    },
    {
     "data": {
      "text/plain": "<IPython.core.display.HTML object>",
      "text/html": "Syncing run <strong><a href=\"https://wandb.ai/bialymt92/Demo%201/runs/jv1d0ilv\" target=\"_blank\">firm-music-2</a></strong> to <a href=\"https://wandb.ai/bialymt92/Demo%201\" target=\"_blank\">Weights & Biases</a> (<a href=\"https://wandb.me/run\" target=\"_blank\">docs</a>)<br/>"
     },
     "metadata": {},
     "output_type": "display_data"
    },
    {
     "data": {
      "text/plain": "<IPython.core.display.HTML object>",
      "text/html": " View project at <a href=\"https://wandb.ai/bialymt92/Demo%201\" target=\"_blank\">https://wandb.ai/bialymt92/Demo%201</a>"
     },
     "metadata": {},
     "output_type": "display_data"
    },
    {
     "data": {
      "text/plain": "<IPython.core.display.HTML object>",
      "text/html": " View run at <a href=\"https://wandb.ai/bialymt92/Demo%201/runs/jv1d0ilv\" target=\"_blank\">https://wandb.ai/bialymt92/Demo%201/runs/jv1d0ilv</a>"
     },
     "metadata": {},
     "output_type": "display_data"
    },
    {
     "name": "stdout",
     "output_type": "stream",
     "text": [
      "This is run firm-music-2\n"
     ]
    },
    {
     "data": {
      "text/plain": "<IPython.core.display.HTML object>",
      "text/html": "Waiting for W&B process to finish... <strong style=\"color:green\">(success).</strong>"
     },
     "metadata": {},
     "output_type": "display_data"
    },
    {
     "data": {
      "text/plain": "VBox(children=(Label(value='0.001 MB of 0.001 MB uploaded (0.000 MB deduped)\\r'), FloatProgress(value=1.0, max…",
      "application/vnd.jupyter.widget-view+json": {
       "version_major": 2,
       "version_minor": 0,
       "model_id": "9ff75f3dfad548be8174ab230589bf50"
      }
     },
     "metadata": {},
     "output_type": "display_data"
    },
    {
     "data": {
      "text/plain": "<IPython.core.display.HTML object>",
      "text/html": " View run <strong style=\"color:#cdcd00\">firm-music-2</strong> at: <a href=\"https://wandb.ai/bialymt92/Demo%201/runs/jv1d0ilv\" target=\"_blank\">https://wandb.ai/bialymt92/Demo%201/runs/jv1d0ilv</a><br/>Synced 6 W&B file(s), 0 media file(s), 0 artifact file(s) and 0 other file(s)"
     },
     "metadata": {},
     "output_type": "display_data"
    },
    {
     "data": {
      "text/plain": "<IPython.core.display.HTML object>",
      "text/html": "Find logs at: <code>./wandb/run-20230116_083658-jv1d0ilv/logs</code>"
     },
     "metadata": {},
     "output_type": "display_data"
    },
    {
     "data": {
      "text/plain": "VBox(children=(Label(value='Waiting for wandb.init()...\\r'), FloatProgress(value=0.016672023333330798, max=1.0…",
      "application/vnd.jupyter.widget-view+json": {
       "version_major": 2,
       "version_minor": 0,
       "model_id": "6209a13991ce401d8a9f3a0eb0c010fb"
      }
     },
     "metadata": {},
     "output_type": "display_data"
    },
    {
     "data": {
      "text/plain": "<IPython.core.display.HTML object>",
      "text/html": "Tracking run with wandb version 0.13.9"
     },
     "metadata": {},
     "output_type": "display_data"
    },
    {
     "data": {
      "text/plain": "<IPython.core.display.HTML object>",
      "text/html": "Run data is saved locally in <code>/home/bialekm/cd0581-building-a-reproducible-model-workflow-exercises/lesson-1-machine-learning-pipelines/demo/wandb/run-20230116_083723-apnt91vf</code>"
     },
     "metadata": {},
     "output_type": "display_data"
    },
    {
     "data": {
      "text/plain": "<IPython.core.display.HTML object>",
      "text/html": "Syncing run <strong><a href=\"https://wandb.ai/bialymt92/Demo%201/runs/apnt91vf\" target=\"_blank\">visionary-snow-3</a></strong> to <a href=\"https://wandb.ai/bialymt92/Demo%201\" target=\"_blank\">Weights & Biases</a> (<a href=\"https://wandb.me/run\" target=\"_blank\">docs</a>)<br/>"
     },
     "metadata": {},
     "output_type": "display_data"
    },
    {
     "data": {
      "text/plain": "<IPython.core.display.HTML object>",
      "text/html": " View project at <a href=\"https://wandb.ai/bialymt92/Demo%201\" target=\"_blank\">https://wandb.ai/bialymt92/Demo%201</a>"
     },
     "metadata": {},
     "output_type": "display_data"
    },
    {
     "data": {
      "text/plain": "<IPython.core.display.HTML object>",
      "text/html": " View run at <a href=\"https://wandb.ai/bialymt92/Demo%201/runs/apnt91vf\" target=\"_blank\">https://wandb.ai/bialymt92/Demo%201/runs/apnt91vf</a>"
     },
     "metadata": {},
     "output_type": "display_data"
    },
    {
     "name": "stdout",
     "output_type": "stream",
     "text": [
      "This is run visionary-snow-3\n"
     ]
    },
    {
     "data": {
      "text/plain": "<IPython.core.display.HTML object>",
      "text/html": "Waiting for W&B process to finish... <strong style=\"color:green\">(success).</strong>"
     },
     "metadata": {},
     "output_type": "display_data"
    },
    {
     "data": {
      "text/plain": "VBox(children=(Label(value='0.001 MB of 0.001 MB uploaded (0.000 MB deduped)\\r'), FloatProgress(value=1.0, max…",
      "application/vnd.jupyter.widget-view+json": {
       "version_major": 2,
       "version_minor": 0,
       "model_id": "2378bae29993452c9e669e2b619ebb98"
      }
     },
     "metadata": {},
     "output_type": "display_data"
    },
    {
     "data": {
      "text/plain": "<IPython.core.display.HTML object>",
      "text/html": " View run <strong style=\"color:#cdcd00\">visionary-snow-3</strong> at: <a href=\"https://wandb.ai/bialymt92/Demo%201/runs/apnt91vf\" target=\"_blank\">https://wandb.ai/bialymt92/Demo%201/runs/apnt91vf</a><br/>Synced 6 W&B file(s), 0 media file(s), 0 artifact file(s) and 0 other file(s)"
     },
     "metadata": {},
     "output_type": "display_data"
    },
    {
     "data": {
      "text/plain": "<IPython.core.display.HTML object>",
      "text/html": "Find logs at: <code>./wandb/run-20230116_083723-apnt91vf/logs</code>"
     },
     "metadata": {},
     "output_type": "display_data"
    }
   ],
   "source": [
    "with wandb.init(project=\"Demo 1\", group=\"testing_artifacts\") as run:\n",
    "    \n",
    "    print(f\"This is run {run.name}\")\n",
    "    \n",
    "    artifact = wandb.Artifact(name=\"my_artifact.txt\", type=\"data\", description=\"An example of an artifact\")\n",
    "    run.log_artifact(artifact)\n",
    "\n",
    "with wandb.init(project=\"Demo 1\", group=\"testing_artifacts\") as run:\n",
    "    \n",
    "    print(f\"This is run {run.name}\")\n",
    "    artifact = wandb.Artifact(name=\"my_artifact.txt\", type=\"data\", description=\"An example of an artifact\")\n",
    "    run.log_artifact(artifact)"
   ]
  },
  {
   "cell_type": "code",
   "execution_count": null,
   "id": "3fabf990",
   "metadata": {},
   "outputs": [],
   "source": []
  }
 ],
 "metadata": {
  "kernelspec": {
   "display_name": "Python 3",
   "language": "python",
   "name": "python3"
  },
  "language_info": {
   "codemirror_mode": {
    "name": "ipython",
    "version": 3
   },
   "file_extension": ".py",
   "mimetype": "text/x-python",
   "name": "python",
   "nbconvert_exporter": "python",
   "pygments_lexer": "ipython3",
   "version": "3.8.8"
  }
 },
 "nbformat": 4,
 "nbformat_minor": 5
}
