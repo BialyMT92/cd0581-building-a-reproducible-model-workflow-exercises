{
 "cells": [
  {
   "cell_type": "code",
   "execution_count": 11,
   "id": "19b0072f",
   "metadata": {},
   "outputs": [
    {
     "name": "stdout",
     "output_type": "stream",
     "text": [
      "{'error_code': 'BAD_REQUEST', 'message': \"The input must be a JSON dictionary with exactly one of the input fields {'dataframe_split', 'inputs', 'instances', 'dataframe_records'}. Received dictionary with input fields: ['columns', 'data', 'index']. IMPORTANT: The MLflow Model scoring protocol has changed in MLflow version 2.0. If you are seeing this error, you are likely using an outdated scoring request format. To resolve the error, either update your request format or adjust your MLflow Model's requirements file to specify an older version of MLflow (for example, change the 'mlflow' requirement specifier to 'mlflow==1.30.0'). If you are making a request using the MLflow client (e.g. via `mlflow.pyfunc.spark_udf()`), upgrade your MLflow client to a version >= 2.0 in order to use the new request format. For more information about the updated MLflow Model scoring protocol in MLflow 2.0, see https://mlflow.org/docs/latest/models.html#deploy-mlflow-models.\"}\n"
     ]
    }
   ],
   "source": [
    "import requests\n",
    "import json\n",
    "\n",
    "with open(\"data_sample.json\") as fp:\n",
    "    data = json.load(fp)\n",
    "\n",
    "results = requests.post(\"http://localhost:5000/invocations\", json=data)\n",
    "\n",
    "print(results.json())"
   ]
  },
  {
   "cell_type": "code",
   "execution_count": null,
   "id": "0db035ba",
   "metadata": {},
   "outputs": [],
   "source": []
  }
 ],
 "metadata": {
  "kernelspec": {
   "display_name": "Python 3 (ipykernel)",
   "language": "python",
   "name": "python3"
  },
  "language_info": {
   "codemirror_mode": {
    "name": "ipython",
    "version": 3
   },
   "file_extension": ".py",
   "mimetype": "text/x-python",
   "name": "python",
   "nbconvert_exporter": "python",
   "pygments_lexer": "ipython3",
   "version": "3.10.8"
  }
 },
 "nbformat": 4,
 "nbformat_minor": 5
}
